{
 "cells": [
  {
   "cell_type": "markdown",
   "metadata": {},
   "source": [
    "### Import necesary libraries"
   ]
  },
  {
   "cell_type": "code",
   "execution_count": 1,
   "metadata": {},
   "outputs": [],
   "source": [
    "import pandas as pd\n",
    "import re\n",
    "import requests\n",
    "\n",
    "from bs4 import BeautifulSoup as bs"
   ]
  },
  {
   "cell_type": "markdown",
   "metadata": {},
   "source": [
    "### Load the webpage"
   ]
  },
  {
   "cell_type": "code",
   "execution_count": 2,
   "metadata": {},
   "outputs": [
    {
     "name": "stdout",
     "output_type": "stream",
     "text": [
      "<html>\n",
      " <head>\n",
      "  <title>\n",
      "   HTML Example\n",
      "  </title>\n",
      " </head>\n",
      " <body>\n",
      "  <div align=\"middle\">\n",
      "   <h1>\n",
      "    HTML Webpage\n",
      "   </h1>\n",
      "   <p>\n",
      "    Link to more interesting example:\n",
      "    <a href=\"https://keithgalli.github.io/web-scraping/webpage.html\">\n",
      "     keithgalli.github.io/web-scraping/webpage.html\n",
      "    </a>\n",
      "   </p>\n",
      "  </div>\n",
      "  <h2>\n",
      "   A Header\n",
      "  </h2>\n",
      "  <p>\n",
      "   <i>\n",
      "    Some italicized text\n",
      "   </i>\n",
      "  </p>\n",
      "  <h2>\n",
      "   Another header\n",
      "  </h2>\n",
      "  <p id=\"paragraph-id\">\n",
      "   <b>\n",
      "    Some bold text\n",
      "   </b>\n",
      "  </p>\n",
      " </body>\n",
      "</html>\n",
      "\n"
     ]
    }
   ],
   "source": [
    "#Load the webpage content\n",
    "r = requests.get('https://keithgalli.github.io/web-scraping/example.html')\n",
    "\n",
    "#Convert to a Beautiful Soup object\n",
    "soup = bs(r.content)\n",
    "\n",
    "#Print out html\n",
    "print(soup.prettify())"
   ]
  },
  {
   "cell_type": "markdown",
   "metadata": {},
   "source": [
    "### Start using Beautiful Soup to Scrape"
   ]
  },
  {
   "cell_type": "markdown",
   "metadata": {},
   "source": [
    "#### find and find_all"
   ]
  },
  {
   "cell_type": "code",
   "execution_count": 3,
   "metadata": {},
   "outputs": [
    {
     "data": {
      "text/plain": [
       "<h2>A Header</h2>"
      ]
     },
     "execution_count": 3,
     "metadata": {},
     "output_type": "execute_result"
    }
   ],
   "source": [
    "#The find command finds the first occurence\n",
    "first_header = soup.find('h2')\n",
    "first_header"
   ]
  },
  {
   "cell_type": "code",
   "execution_count": 4,
   "metadata": {},
   "outputs": [
    {
     "data": {
      "text/plain": [
       "[<h2>A Header</h2>, <h2>Another header</h2>]"
      ]
     },
     "execution_count": 4,
     "metadata": {},
     "output_type": "execute_result"
    }
   ],
   "source": [
    "#find_all finds all occurences\n",
    "headers = soup.find_all('h2')\n",
    "headers"
   ]
  },
  {
   "cell_type": "code",
   "execution_count": 5,
   "metadata": {},
   "outputs": [
    {
     "data": {
      "text/plain": [
       "<h1>HTML Webpage</h1>"
      ]
     },
     "execution_count": 5,
     "metadata": {},
     "output_type": "execute_result"
    }
   ],
   "source": [
    "#Can also pass in a list of elements to look for\n",
    "first_header = soup.find(['h1', 'h2'])\n",
    "first_header"
   ]
  },
  {
   "cell_type": "code",
   "execution_count": 6,
   "metadata": {},
   "outputs": [
    {
     "data": {
      "text/plain": [
       "[<h1>HTML Webpage</h1>, <h2>A Header</h2>, <h2>Another header</h2>]"
      ]
     },
     "execution_count": 6,
     "metadata": {},
     "output_type": "execute_result"
    }
   ],
   "source": [
    "#Same thing for find_all\n",
    "headers = soup.find_all(['h1', 'h2'])\n",
    "headers"
   ]
  },
  {
   "cell_type": "code",
   "execution_count": 7,
   "metadata": {},
   "outputs": [
    {
     "data": {
      "text/plain": [
       "[<p id=\"paragraph-id\"><b>Some bold text</b></p>]"
      ]
     },
     "execution_count": 7,
     "metadata": {},
     "output_type": "execute_result"
    }
   ],
   "source": [
    "#Can pass in attributes to find/find_all method\n",
    "paragraph = soup.find_all('p', attrs={'id': 'paragraph-id'})\n",
    "paragraph"
   ]
  },
  {
   "cell_type": "code",
   "execution_count": 8,
   "metadata": {},
   "outputs": [
    {
     "data": {
      "text/plain": [
       "<div align=\"middle\">\n",
       "<h1>HTML Webpage</h1>\n",
       "<p>Link to more interesting example: <a href=\"https://keithgalli.github.io/web-scraping/webpage.html\">keithgalli.github.io/web-scraping/webpage.html</a></p>\n",
       "</div>"
      ]
     },
     "execution_count": 8,
     "metadata": {},
     "output_type": "execute_result"
    }
   ],
   "source": [
    "#Can nest find and find_all calls\n",
    "body = soup.find('body')\n",
    "div = body.find('div')\n",
    "div"
   ]
  },
  {
   "cell_type": "code",
   "execution_count": 9,
   "metadata": {},
   "outputs": [
    {
     "data": {
      "text/plain": [
       "<h1>HTML Webpage</h1>"
      ]
     },
     "execution_count": 9,
     "metadata": {},
     "output_type": "execute_result"
    }
   ],
   "source": [
    "#Can go further\n",
    "header = div.find('h1')\n",
    "header"
   ]
  },
  {
   "cell_type": "markdown",
   "metadata": {},
   "source": [
    "### Locate pagraphs that contain the word string in them"
   ]
  },
  {
   "cell_type": "code",
   "execution_count": 10,
   "metadata": {},
   "outputs": [
    {
     "data": {
      "text/plain": [
       "[<p id=\"paragraph-id\"><b>Some bold text</b></p>]"
      ]
     },
     "execution_count": 10,
     "metadata": {},
     "output_type": "execute_result"
    }
   ],
   "source": [
    "#Search specific strings using find/find_all\n",
    "paragraphs = soup.find_all('p', string='Some bold text')\n",
    "paragraphs"
   ]
  },
  {
   "cell_type": "code",
   "execution_count": 11,
   "metadata": {},
   "outputs": [
    {
     "data": {
      "text/plain": [
       "[<p><i>Some italicized text</i></p>,\n",
       " <p id=\"paragraph-id\"><b>Some bold text</b></p>]"
      ]
     },
     "execution_count": 11,
     "metadata": {},
     "output_type": "execute_result"
    }
   ],
   "source": [
    "#We generally don't want to search for a full string\n",
    "#ideally should be able to search with a substring\n",
    "paragraphs = soup.find_all('p', string=re.compile('Some'))\n",
    "paragraphs"
   ]
  },
  {
   "cell_type": "markdown",
   "metadata": {},
   "source": [
    "### Find strings in header tags with word 'header' in it. Note the different capitalizations"
   ]
  },
  {
   "cell_type": "code",
   "execution_count": 12,
   "metadata": {},
   "outputs": [
    {
     "data": {
      "text/plain": [
       "[<h2>A Header</h2>, <h2>Another header</h2>]"
      ]
     },
     "execution_count": 12,
     "metadata": {},
     "output_type": "execute_result"
    }
   ],
   "source": [
    "headers = soup.find_all('h2', string=re.compile(\"H|header\"))\n",
    "headers"
   ]
  },
  {
   "cell_type": "markdown",
   "metadata": {},
   "source": [
    "### Select (CSS selector)"
   ]
  },
  {
   "cell_type": "code",
   "execution_count": 13,
   "metadata": {},
   "outputs": [
    {
     "name": "stdout",
     "output_type": "stream",
     "text": [
      "<body>\n",
      " <div align=\"middle\">\n",
      "  <h1>\n",
      "   HTML Webpage\n",
      "  </h1>\n",
      "  <p>\n",
      "   Link to more interesting example:\n",
      "   <a href=\"https://keithgalli.github.io/web-scraping/webpage.html\">\n",
      "    keithgalli.github.io/web-scraping/webpage.html\n",
      "   </a>\n",
      "  </p>\n",
      " </div>\n",
      " <h2>\n",
      "  A Header\n",
      " </h2>\n",
      " <p>\n",
      "  <i>\n",
      "   Some italicized text\n",
      "  </i>\n",
      " </p>\n",
      " <h2>\n",
      "  Another header\n",
      " </h2>\n",
      " <p id=\"paragraph-id\">\n",
      "  <b>\n",
      "   Some bold text\n",
      "  </b>\n",
      " </p>\n",
      "</body>\n",
      "\n"
     ]
    }
   ],
   "source": [
    "print(soup.body.prettify())"
   ]
  },
  {
   "cell_type": "code",
   "execution_count": 14,
   "metadata": {},
   "outputs": [
    {
     "data": {
      "text/plain": [
       "[<p>Link to more interesting example: <a href=\"https://keithgalli.github.io/web-scraping/webpage.html\">keithgalli.github.io/web-scraping/webpage.html</a></p>,\n",
       " <p><i>Some italicized text</i></p>,\n",
       " <p id=\"paragraph-id\"><b>Some bold text</b></p>]"
      ]
     },
     "execution_count": 14,
     "metadata": {},
     "output_type": "execute_result"
    }
   ],
   "source": [
    "#Selecting all paragraph tags in a page\n",
    "#Similar to find_all\n",
    "content = soup.select('p')\n",
    "content"
   ]
  },
  {
   "cell_type": "code",
   "execution_count": 15,
   "metadata": {},
   "outputs": [
    {
     "data": {
      "text/plain": [
       "[<p>Link to more interesting example: <a href=\"https://keithgalli.github.io/web-scraping/webpage.html\">keithgalli.github.io/web-scraping/webpage.html</a></p>]"
      ]
     },
     "execution_count": 15,
     "metadata": {},
     "output_type": "execute_result"
    }
   ],
   "source": [
    "#Just grab paragraphs inside divs\n",
    "content = soup.select('div p')\n",
    "content"
   ]
  },
  {
   "cell_type": "code",
   "execution_count": 16,
   "metadata": {},
   "outputs": [
    {
     "data": {
      "text/plain": [
       "[<p><i>Some italicized text</i></p>,\n",
       " <p id=\"paragraph-id\"><b>Some bold text</b></p>]"
      ]
     },
     "execution_count": 16,
     "metadata": {},
     "output_type": "execute_result"
    }
   ],
   "source": [
    "#Grab all paragraphs preceeded by h2\n",
    "paragraphs = soup.select('h2 ~ p')\n",
    "paragraphs"
   ]
  },
  {
   "cell_type": "code",
   "execution_count": 17,
   "metadata": {},
   "outputs": [
    {
     "data": {
      "text/plain": [
       "[<b>Some bold text</b>]"
      ]
     },
     "execution_count": 17,
     "metadata": {},
     "output_type": "execute_result"
    }
   ],
   "source": [
    "#Grab specific elements with ids\n",
    "#Grab bold elements after a paragraph with id 'paragraph-id'\n",
    "bold_text = soup.select('p#paragraph-id b')\n",
    "bold_text"
   ]
  },
  {
   "cell_type": "code",
   "execution_count": 18,
   "metadata": {},
   "outputs": [
    {
     "data": {
      "text/plain": [
       "[<p><i>Some italicized text</i></p>,\n",
       " <p id=\"paragraph-id\"><b>Some bold text</b></p>]"
      ]
     },
     "execution_count": 18,
     "metadata": {},
     "output_type": "execute_result"
    }
   ],
   "source": [
    "#Nested calls\n",
    "paragraphs = soup.select('body > p') #direct descendant of paragraph\n",
    "paragraphs"
   ]
  },
  {
   "cell_type": "code",
   "execution_count": 19,
   "metadata": {},
   "outputs": [
    {
     "name": "stdout",
     "output_type": "stream",
     "text": [
      "[<i>Some italicized text</i>]\n",
      "[]\n"
     ]
    }
   ],
   "source": [
    "for paragraph in paragraphs:\n",
    "    print(paragraph.select('i'))"
   ]
  },
  {
   "cell_type": "code",
   "execution_count": 20,
   "metadata": {},
   "outputs": [
    {
     "data": {
      "text/plain": [
       "[<div align=\"middle\">\n",
       " <h1>HTML Webpage</h1>\n",
       " <p>Link to more interesting example: <a href=\"https://keithgalli.github.io/web-scraping/webpage.html\">keithgalli.github.io/web-scraping/webpage.html</a></p>\n",
       " </div>]"
      ]
     },
     "execution_count": 20,
     "metadata": {},
     "output_type": "execute_result"
    }
   ],
   "source": [
    "#Grab an element with specific property\n",
    "soup.select('[align=middle]')"
   ]
  },
  {
   "cell_type": "markdown",
   "metadata": {},
   "source": [
    "### Get different properteis of the HTML"
   ]
  },
  {
   "cell_type": "code",
   "execution_count": 21,
   "metadata": {},
   "outputs": [
    {
     "name": "stdout",
     "output_type": "stream",
     "text": [
      "<h2>A Header</h2>\n",
      "A Header\n"
     ]
    }
   ],
   "source": [
    "#Get string inside an element without tags\n",
    "header = soup.find(\"h2\")\n",
    "print(header)\n",
    "print(header.string)"
   ]
  },
  {
   "cell_type": "code",
   "execution_count": 22,
   "metadata": {},
   "outputs": [
    {
     "name": "stdout",
     "output_type": "stream",
     "text": [
      "<div align=\"middle\">\n",
      " <h1>\n",
      "  HTML Webpage\n",
      " </h1>\n",
      " <p>\n",
      "  Link to more interesting example:\n",
      "  <a href=\"https://keithgalli.github.io/web-scraping/webpage.html\">\n",
      "   keithgalli.github.io/web-scraping/webpage.html\n",
      "  </a>\n",
      " </p>\n",
      "</div>\n",
      "\n",
      "----------------------\n",
      "None\n"
     ]
    }
   ],
   "source": [
    "div = soup.find(\"div\")\n",
    "print(div.prettify())\n",
    "print('----------------------')\n",
    "print(div.string)"
   ]
  },
  {
   "cell_type": "markdown",
   "metadata": {},
   "source": [
    "It is not clear to the div.string command whether to print out the HTML Webpage or the Link to more ... as there 2 elements at child level"
   ]
  },
  {
   "cell_type": "code",
   "execution_count": 23,
   "metadata": {},
   "outputs": [
    {
     "name": "stdout",
     "output_type": "stream",
     "text": [
      "\n",
      "HTML Webpage\n",
      "Link to more interesting example: keithgalli.github.io/web-scraping/webpage.html\n",
      "\n"
     ]
    }
   ],
   "source": [
    "#So when you run into a problem of div.string returning None then use div.get_text()\n",
    "#This occurs when there are multiple child elements\n",
    "print(div.get_text())"
   ]
  },
  {
   "cell_type": "code",
   "execution_count": 24,
   "metadata": {},
   "outputs": [
    {
     "data": {
      "text/plain": [
       "'https://keithgalli.github.io/web-scraping/webpage.html'"
      ]
     },
     "execution_count": 24,
     "metadata": {},
     "output_type": "execute_result"
    }
   ],
   "source": [
    "#Get a specifc property from an element\n",
    "link = soup.find(\"a\")\n",
    "link['href']"
   ]
  },
  {
   "cell_type": "code",
   "execution_count": 25,
   "metadata": {},
   "outputs": [
    {
     "data": {
      "text/plain": [
       "'paragraph-id'"
      ]
     },
     "execution_count": 25,
     "metadata": {},
     "output_type": "execute_result"
    }
   ],
   "source": [
    "paragraphs = soup.select(\"p#paragraph-id\")\n",
    "paragraphs[0]['id']"
   ]
  },
  {
   "cell_type": "markdown",
   "metadata": {},
   "source": [
    "### Code Navigation"
   ]
  },
  {
   "cell_type": "code",
   "execution_count": 26,
   "metadata": {},
   "outputs": [
    {
     "data": {
      "text/plain": [
       "'HTML Webpage'"
      ]
     },
     "execution_count": 26,
     "metadata": {},
     "output_type": "execute_result"
    }
   ],
   "source": [
    "#Path syntax\n",
    "#soup\n",
    "#soup.body\n",
    "#soup.body.h1\n",
    "soup.body.h1.string"
   ]
  },
  {
   "cell_type": "code",
   "execution_count": 27,
   "metadata": {},
   "outputs": [
    {
     "name": "stdout",
     "output_type": "stream",
     "text": [
      "<body>\n",
      " <div align=\"middle\">\n",
      "  <h1>\n",
      "   HTML Webpage\n",
      "  </h1>\n",
      "  <p>\n",
      "   Link to more interesting example:\n",
      "   <a href=\"https://keithgalli.github.io/web-scraping/webpage.html\">\n",
      "    keithgalli.github.io/web-scraping/webpage.html\n",
      "   </a>\n",
      "  </p>\n",
      " </div>\n",
      " <h2>\n",
      "  A Header\n",
      " </h2>\n",
      " <p>\n",
      "  <i>\n",
      "   Some italicized text\n",
      "  </i>\n",
      " </p>\n",
      " <h2>\n",
      "  Another header\n",
      " </h2>\n",
      " <p id=\"paragraph-id\">\n",
      "  <b>\n",
      "   Some bold text\n",
      "  </b>\n",
      " </p>\n",
      "</body>\n",
      "\n"
     ]
    }
   ],
   "source": [
    "#Know the terms - parent, sibling and child\n",
    "print(soup.body.prettify())"
   ]
  },
  {
   "cell_type": "markdown",
   "metadata": {},
   "source": [
    "The 'div align=\"middle\"'has as its parent the 'body' which naturally implies the 'body''s child is div. The h2 is a sibling to the div as it has the same level of indent within the indent and has the parent as body"
   ]
  },
  {
   "cell_type": "code",
   "execution_count": 28,
   "metadata": {},
   "outputs": [],
   "source": [
    "#BeautifulSoup has function calls like find_parent(), find_next_sibling() etc"
   ]
  },
  {
   "cell_type": "code",
   "execution_count": 29,
   "metadata": {},
   "outputs": [
    {
     "data": {
      "text/plain": [
       "[<h2>A Header</h2>,\n",
       " <p><i>Some italicized text</i></p>,\n",
       " <h2>Another header</h2>,\n",
       " <p id=\"paragraph-id\"><b>Some bold text</b></p>]"
      ]
     },
     "execution_count": 29,
     "metadata": {},
     "output_type": "execute_result"
    }
   ],
   "source": [
    "#Using the find_next_sibling()\n",
    "div = soup.body.find(\"div\")\n",
    "div.find_next_siblings()"
   ]
  },
  {
   "cell_type": "markdown",
   "metadata": {},
   "source": [
    "### Examples\n",
    "\n",
    "https://keithgalli.github.io/web-scraping/webpage.html"
   ]
  },
  {
   "cell_type": "code",
   "execution_count": 50,
   "metadata": {},
   "outputs": [],
   "source": [
    "#Defining the url\n",
    "url = \"https://keithgalli.github.io/web-scraping/\" "
   ]
  },
  {
   "cell_type": "markdown",
   "metadata": {},
   "source": [
    "### Load webpage"
   ]
  },
  {
   "cell_type": "code",
   "execution_count": 30,
   "metadata": {
    "scrolled": true
   },
   "outputs": [
    {
     "name": "stdout",
     "output_type": "stream",
     "text": [
      "<head>\n",
      " <title>\n",
      "  Keith Galli's Page\n",
      " </title>\n",
      " <style>\n",
      "  table {\n",
      "    border-collapse: collapse;\n",
      "  }\n",
      "  th {\n",
      "    padding:5px;\n",
      "  }\n",
      "  td {\n",
      "    border: 1px solid #ddd;\n",
      "    padding: 5px;\n",
      "  }\n",
      "  tr:nth-child(even) {\n",
      "    background-color: #f2f2f2;\n",
      "  }\n",
      "  th {\n",
      "    padding-top: 12px;\n",
      "    padding-bottom: 12px;\n",
      "    text-align: left;\n",
      "    background-color: #add8e6;\n",
      "    color: black;\n",
      "  }\n",
      "  .block {\n",
      "  width: 100px;\n",
      "  /*float: left;*/\n",
      "    display: inline-block;\n",
      "    zoom: 1;\n",
      "  }\n",
      "  .column {\n",
      "  float: left;\n",
      "  height: 200px;\n",
      "  /*width: 33.33%;*/\n",
      "  padding: 5px;\n",
      "  }\n",
      "\n",
      "  .row::after {\n",
      "    content: \"\";\n",
      "    clear: both;\n",
      "    display: table;\n",
      "  }\n",
      " </style>\n",
      "</head>\n",
      "<body>\n",
      " <h1>\n",
      "  Welcome to my page!\n",
      " </h1>\n",
      " <img src=\"./images/selfie1.jpg\" width=\"300px\"/>\n",
      " <h2>\n",
      "  About me\n",
      " </h2>\n",
      " <p>\n",
      "  Hi, my name is Keith and I am a YouTuber who focuses on content related to programming, data science, and machine learning!\n",
      " </p>\n",
      " <p>\n",
      "  Here is a link to my channel:\n",
      "  <a href=\"https://www.youtube.com/kgmit\">\n",
      "   youtube.com/kgmit\n",
      "  </a>\n",
      " </p>\n",
      " <p>\n",
      "  I grew up in the great state of New Hampshire here in the USA. From an early age I always loved math. Around my senior year of high school, my brother first introduced me to programming. I found it a creative way to apply the same type of logical thinking skills that I enjoyed with math. This influenced me to study computer science in college and ultimately create a YouTube channel to share some things that I have learned along the way.\n",
      " </p>\n",
      " <h3>\n",
      "  Hobbies\n",
      " </h3>\n",
      " <p>\n",
      "  Believe it or not, I don't code 24/7. I love doing all sorts of active things. I like to play ice hockey &amp; table tennis as well as run, hike, skateboard, and snowboard. In addition to sports, I am a board game enthusiast. The two that I've been playing the most recently are\n",
      "  <i>\n",
      "   Settlers of Catan\n",
      "  </i>\n",
      "  and\n",
      "  <i>\n",
      "   Othello\n",
      "  </i>\n",
      "  .\n",
      " </p>\n",
      " <h3>\n",
      "  Fun Facts\n",
      " </h3>\n",
      " <ul class=\"fun-facts\">\n",
      "  <li>\n",
      "   Owned my dream car in high school\n",
      "   <a href=\"#footer\">\n",
      "    <sup>\n",
      "     1\n",
      "    </sup>\n",
      "   </a>\n",
      "  </li>\n",
      "  <li>\n",
      "   Middle name is Ronald\n",
      "  </li>\n",
      "  <li>\n",
      "   Never had been on a plane until college\n",
      "  </li>\n",
      "  <li>\n",
      "   Dunkin Donuts coffee is better than Starbucks\n",
      "  </li>\n",
      "  <li>\n",
      "   A favorite book series of mine is\n",
      "   <i>\n",
      "    Ender's Game\n",
      "   </i>\n",
      "  </li>\n",
      "  <li>\n",
      "   Current video game of choice is\n",
      "   <i>\n",
      "    Rocket League\n",
      "   </i>\n",
      "  </li>\n",
      "  <li>\n",
      "   The band that I've seen the most times live is the\n",
      "   <i>\n",
      "    Zac Brown Band\n",
      "   </i>\n",
      "  </li>\n",
      " </ul>\n",
      " <h2>\n",
      "  Social Media\n",
      " </h2>\n",
      " I encourage you to check out my content on all social media platforms\n",
      " <br/>\n",
      " <ul class=\"socials\">\n",
      "  <li class=\"social instagram\">\n",
      "   <b>\n",
      "    Instagram:\n",
      "   </b>\n",
      "   <a href=\"https://www.instagram.com/keithgalli/\">\n",
      "    https://www.instagram.com/keithgalli/\n",
      "   </a>\n",
      "  </li>\n",
      "  <li class=\"social twitter\">\n",
      "   <b>\n",
      "    Twitter:\n",
      "   </b>\n",
      "   <a href=\"https://twitter.com/keithgalli\">\n",
      "    https://twitter.com/keithgalli\n",
      "   </a>\n",
      "  </li>\n",
      "  <li class=\"social linkedin\">\n",
      "   <b>\n",
      "    LinkedIn:\n",
      "   </b>\n",
      "   <a href=\"https://www.linkedin.com/in/keithgalli/\">\n",
      "    https://www.linkedin.com/in/keithgalli/\n",
      "   </a>\n",
      "  </li>\n",
      "  <li class=\"social tiktok\">\n",
      "   <b>\n",
      "    TikTok:\n",
      "   </b>\n",
      "   <a href=\"https://www.tiktok.com/@keithgalli\">\n",
      "    https://www.tiktok.com/@keithgalli\n",
      "   </a>\n",
      "  </li>\n",
      " </ul>\n",
      " <h2>\n",
      "  Photos\n",
      " </h2>\n",
      " Here are a few photos from a trip to italy I took last year\n",
      " <div class=\"row\">\n",
      "  <div class=\"column\">\n",
      "   <img alt=\"Lake Como\" src=\"images/italy/lake_como.jpg\" style=\"height:100%\"/>\n",
      "  </div>\n",
      "  <div class=\"column\">\n",
      "   <img alt=\"Pontevecchio, Florence\" src=\"images/italy/pontevecchio.jpg\" style=\"height:100%\"/>\n",
      "  </div>\n",
      "  <div class=\"column\">\n",
      "   <img alt=\"Riomaggiore, Cinque de Terre\" src=\"images/italy/riomaggiore.jpg\" style=\"height:100%\"/>\n",
      "  </div>\n",
      " </div>\n",
      " <div>\n",
      " </div>\n",
      " <h2>\n",
      "  Table\n",
      " </h2>\n",
      " My MIT hockey stats :)\n",
      " <br/>\n",
      " <table class=\"hockey-stats\">\n",
      "  <thead>\n",
      "   <tr>\n",
      "    <th class=\"season\" data-sort=\"\">\n",
      "     S\n",
      "    </th>\n",
      "    <th class=\"team\" data-sort=\"team\">\n",
      "     Team\n",
      "    </th>\n",
      "    <th class=\"league\" data-sort=\"league\">\n",
      "     League\n",
      "    </th>\n",
      "    <th class=\"regular gp\" data-sort=\"gp\">\n",
      "     GP\n",
      "    </th>\n",
      "    <th class=\"regular g\" data-sort=\"g\">\n",
      "     G\n",
      "    </th>\n",
      "    <th class=\"regular a\" data-sort=\"a\">\n",
      "     A\n",
      "    </th>\n",
      "    <th class=\"regular tp\" data-sort=\"tp\">\n",
      "     TP\n",
      "    </th>\n",
      "    <th class=\"regular pim\" data-sort=\"pim\">\n",
      "     PIM\n",
      "    </th>\n",
      "    <th class=\"regular pm\" data-sort=\"pm\">\n",
      "     +/-\n",
      "    </th>\n",
      "    <th class=\"separator\">\n",
      "    </th>\n",
      "    <th class=\"postseason\">\n",
      "     POST\n",
      "    </th>\n",
      "    <th class=\"postseason gp\" data-sort=\"playoffs-gp\">\n",
      "     GP\n",
      "    </th>\n",
      "    <th class=\"postseason g\" data-sort=\"playoffs-g\">\n",
      "     G\n",
      "    </th>\n",
      "    <th class=\"postseason a\" data-sort=\"playoffs-a\">\n",
      "     A\n",
      "    </th>\n",
      "    <th class=\"postseason tp\" data-sort=\"playoffs-tp\">\n",
      "     TP\n",
      "    </th>\n",
      "    <th class=\"postseason pim\" data-sort=\"playoffs-pim\">\n",
      "     PIM\n",
      "    </th>\n",
      "    <th class=\"postseason pm\" data-sort=\"playoffs-pm\">\n",
      "     +/-\n",
      "    </th>\n",
      "   </tr>\n",
      "  </thead>\n",
      "  <tbody>\n",
      "   <tr class=\"team-continent-NA\">\n",
      "    <td class=\"season sorted\">\n",
      "     2014-15\n",
      "    </td>\n",
      "    <td class=\"team\">\n",
      "     <i>\n",
      "      <img src=\"images/flag.png\"/>\n",
      "     </i>\n",
      "     <span class=\"txt-blue\">\n",
      "      <a href=\"https://www.eliteprospects.com/team/10263/mit-mass.-inst.-of-tech./2014-2015?tab=stats\">\n",
      "       MIT (Mass. Inst. of Tech.)\n",
      "      </a>\n",
      "     </span>\n",
      "    </td>\n",
      "    <td class=\"league\">\n",
      "     <a href=\"https://www.eliteprospects.com/league/acha-ii/stats/2014-2015\">\n",
      "      ACHA II\n",
      "     </a>\n",
      "    </td>\n",
      "    <td class=\"regular gp\">\n",
      "     17\n",
      "    </td>\n",
      "    <td class=\"regular g\">\n",
      "     3\n",
      "    </td>\n",
      "    <td class=\"regular a\">\n",
      "     9\n",
      "    </td>\n",
      "    <td class=\"regular tp\">\n",
      "     12\n",
      "    </td>\n",
      "    <td class=\"regular pim\">\n",
      "     20\n",
      "    </td>\n",
      "    <td class=\"regular pm\">\n",
      "    </td>\n",
      "    <td class=\"separator\">\n",
      "     |\n",
      "    </td>\n",
      "    <td class=\"postseason\">\n",
      "     <a href=\"https://www.eliteprospects.com/league/acha-ii/stats/2014-2015\">\n",
      "     </a>\n",
      "    </td>\n",
      "    <td class=\"postseason gp\">\n",
      "    </td>\n",
      "    <td class=\"postseason g\">\n",
      "    </td>\n",
      "    <td class=\"postseason a\">\n",
      "    </td>\n",
      "    <td class=\"postseason tp\">\n",
      "    </td>\n",
      "    <td class=\"postseason pim\">\n",
      "    </td>\n",
      "    <td class=\"postseason pm\">\n",
      "    </td>\n",
      "   </tr>\n",
      "   <tr class=\"team-continent-NA\">\n",
      "    <td class=\"season sorted\">\n",
      "     2015-16\n",
      "    </td>\n",
      "    <td class=\"team\">\n",
      "     <i>\n",
      "      <img src=\"images/flag.png\"/>\n",
      "     </i>\n",
      "     <span class=\"txt-blue\">\n",
      "      <a href=\"https://www.eliteprospects.com/team/10263/mit-mass.-inst.-of-tech./2015-2016?tab=stats\">\n",
      "       MIT (Mass. Inst. of Tech.)\n",
      "      </a>\n",
      "     </span>\n",
      "    </td>\n",
      "    <td class=\"league\">\n",
      "     <a href=\"https://www.eliteprospects.com/league/acha-ii/stats/2015-2016\">\n",
      "      ACHA II\n",
      "     </a>\n",
      "    </td>\n",
      "    <td class=\"regular gp\">\n",
      "     9\n",
      "    </td>\n",
      "    <td class=\"regular g\">\n",
      "     1\n",
      "    </td>\n",
      "    <td class=\"regular a\">\n",
      "     1\n",
      "    </td>\n",
      "    <td class=\"regular tp\">\n",
      "     2\n",
      "    </td>\n",
      "    <td class=\"regular pim\">\n",
      "     2\n",
      "    </td>\n",
      "    <td class=\"regular pm\">\n",
      "    </td>\n",
      "    <td class=\"separator\">\n",
      "     |\n",
      "    </td>\n",
      "    <td class=\"postseason\">\n",
      "     <a href=\"https://www.eliteprospects.com/league/acha-ii/stats/2015-2016\">\n",
      "     </a>\n",
      "    </td>\n",
      "    <td class=\"postseason gp\">\n",
      "    </td>\n",
      "    <td class=\"postseason g\">\n",
      "    </td>\n",
      "    <td class=\"postseason a\">\n",
      "    </td>\n",
      "    <td class=\"postseason tp\">\n",
      "    </td>\n",
      "    <td class=\"postseason pim\">\n",
      "    </td>\n",
      "    <td class=\"postseason pm\">\n",
      "    </td>\n",
      "   </tr>\n",
      "   <tr class=\"team-continent-NA\">\n",
      "    <td class=\"season sorted\">\n",
      "     2016-17\n",
      "    </td>\n",
      "    <td class=\"team\">\n",
      "     <i>\n",
      "      <img src=\"images/flag.png\"/>\n",
      "     </i>\n",
      "     <span class=\"txt-blue\">\n",
      "      <a href=\"https://www.eliteprospects.com/team/10263/mit-mass.-inst.-of-tech./2016-2017?tab=stats\">\n",
      "       MIT (Mass. Inst. of Tech.)\n",
      "      </a>\n",
      "     </span>\n",
      "    </td>\n",
      "    <td class=\"league\">\n",
      "     <a href=\"https://www.eliteprospects.com/league/acha-ii/stats/2016-2017\">\n",
      "      ACHA II\n",
      "     </a>\n",
      "    </td>\n",
      "    <td class=\"regular gp\">\n",
      "     12\n",
      "    </td>\n",
      "    <td class=\"regular g\">\n",
      "     5\n",
      "    </td>\n",
      "    <td class=\"regular a\">\n",
      "     5\n",
      "    </td>\n",
      "    <td class=\"regular tp\">\n",
      "     10\n",
      "    </td>\n",
      "    <td class=\"regular pim\">\n",
      "     8\n",
      "    </td>\n",
      "    <td class=\"regular pm\">\n",
      "     0\n",
      "    </td>\n",
      "    <td class=\"separator\">\n",
      "     |\n",
      "    </td>\n",
      "    <td class=\"postseason\">\n",
      "    </td>\n",
      "    <td class=\"postseason gp\">\n",
      "    </td>\n",
      "    <td class=\"postseason g\">\n",
      "    </td>\n",
      "    <td class=\"postseason a\">\n",
      "    </td>\n",
      "    <td class=\"postseason tp\">\n",
      "    </td>\n",
      "    <td class=\"postseason pim\">\n",
      "    </td>\n",
      "    <td class=\"postseason pm\">\n",
      "    </td>\n",
      "   </tr>\n",
      "   <tr class=\"team-continent-EU\">\n",
      "    <td class=\"season sorted\">\n",
      "     2017-18\n",
      "    </td>\n",
      "    <td class=\"team\">\n",
      "     Did not play\n",
      "    </td>\n",
      "    <td class=\"league\">\n",
      "     <a href=\"https://www.eliteprospects.com/stats\">\n",
      "     </a>\n",
      "    </td>\n",
      "    <td class=\"regular gp\">\n",
      "    </td>\n",
      "    <td class=\"regular g\">\n",
      "    </td>\n",
      "    <td class=\"regular a\">\n",
      "    </td>\n",
      "    <td class=\"regular tp\">\n",
      "    </td>\n",
      "    <td class=\"regular pim\">\n",
      "    </td>\n",
      "    <td class=\"regular pm\">\n",
      "    </td>\n",
      "    <td class=\"separator\">\n",
      "     |\n",
      "    </td>\n",
      "    <td class=\"postseason\">\n",
      "     <a href=\"https://www.eliteprospects.com/stats\">\n",
      "     </a>\n",
      "    </td>\n",
      "    <td class=\"postseason gp\">\n",
      "    </td>\n",
      "    <td class=\"postseason g\">\n",
      "    </td>\n",
      "    <td class=\"postseason a\">\n",
      "    </td>\n",
      "    <td class=\"postseason tp\">\n",
      "    </td>\n",
      "    <td class=\"postseason pim\">\n",
      "    </td>\n",
      "    <td class=\"postseason pm\">\n",
      "    </td>\n",
      "   </tr>\n",
      "   <tr class=\"team-continent-NA\">\n",
      "    <td class=\"season sorted\">\n",
      "     2018-19\n",
      "    </td>\n",
      "    <td class=\"team\">\n",
      "     <i>\n",
      "      <img src=\"images/flag.png\"/>\n",
      "     </i>\n",
      "     <span class=\"txt-blue\">\n",
      "      <a href=\"https://www.eliteprospects.com/team/10263/mit-mass.-inst.-of-tech./2018-2019?tab=stats\">\n",
      "       MIT (Mass. Inst. of Tech.)\n",
      "      </a>\n",
      "     </span>\n",
      "    </td>\n",
      "    <td class=\"league\">\n",
      "     <a href=\"https://www.eliteprospects.com/league/acha-iii/stats/2018-2019\">\n",
      "      ACHA III\n",
      "     </a>\n",
      "    </td>\n",
      "    <td class=\"regular gp\">\n",
      "     8\n",
      "    </td>\n",
      "    <td class=\"regular g\">\n",
      "     5\n",
      "    </td>\n",
      "    <td class=\"regular a\">\n",
      "     10\n",
      "    </td>\n",
      "    <td class=\"regular tp\">\n",
      "     15\n",
      "    </td>\n",
      "    <td class=\"regular pim\">\n",
      "     8\n",
      "    </td>\n",
      "    <td class=\"regular pm\">\n",
      "    </td>\n",
      "    <td class=\"separator\">\n",
      "     |\n",
      "    </td>\n",
      "    <td class=\"postseason\">\n",
      "     <a href=\"https://www.eliteprospects.com/league/acha-iii/stats/2018-2019\">\n",
      "     </a>\n",
      "    </td>\n",
      "    <td class=\"postseason gp\">\n",
      "    </td>\n",
      "    <td class=\"postseason g\">\n",
      "    </td>\n",
      "    <td class=\"postseason a\">\n",
      "    </td>\n",
      "    <td class=\"postseason tp\">\n",
      "    </td>\n",
      "    <td class=\"postseason pim\">\n",
      "    </td>\n",
      "    <td class=\"postseason pm\">\n",
      "    </td>\n",
      "   </tr>\n",
      "  </tbody>\n",
      " </table>\n",
      " <h2>\n",
      "  Mystery Message Challenge!\n",
      " </h2>\n",
      " <p>\n",
      "  If you scrape the links below grabbing the &lt;p&gt; tag with id=\"secret-word\", you'll discover a secret message :)\n",
      " </p>\n",
      " <div width=\"50%\">\n",
      "  <div align=\"left\" class=\"block\">\n",
      "   <ul>\n",
      "    <li>\n",
      "     <a href=\"challenge/file_1.html\">\n",
      "      File 1\n",
      "     </a>\n",
      "    </li>\n",
      "    <li>\n",
      "     <a href=\"challenge/file_2.html\">\n",
      "      File 2\n",
      "     </a>\n",
      "    </li>\n",
      "    <li>\n",
      "     <a href=\"challenge/file_3.html\">\n",
      "      File 3\n",
      "     </a>\n",
      "    </li>\n",
      "    <li>\n",
      "     <a href=\"challenge/file_4.html\">\n",
      "      File 4\n",
      "     </a>\n",
      "    </li>\n",
      "    <li>\n",
      "     <a href=\"challenge/file_5.html\">\n",
      "      File 5\n",
      "     </a>\n",
      "    </li>\n",
      "   </ul>\n",
      "  </div>\n",
      "  <div align=\"center\" class=\"block\">\n",
      "   <ul>\n",
      "    <li>\n",
      "     <a href=\"challenge/file_6.html\">\n",
      "      File 6\n",
      "     </a>\n",
      "    </li>\n",
      "    <li>\n",
      "     <a href=\"challenge/file_7.html\">\n",
      "      File 7\n",
      "     </a>\n",
      "    </li>\n",
      "    <li>\n",
      "     <a href=\"challenge/file_8.html\">\n",
      "      File 8\n",
      "     </a>\n",
      "    </li>\n",
      "    <li>\n",
      "     <a href=\"challenge/file_9.html\">\n",
      "      File 9\n",
      "     </a>\n",
      "    </li>\n",
      "    <li>\n",
      "     <a href=\"challenge/file_10.html\">\n",
      "      File 10\n",
      "     </a>\n",
      "    </li>\n",
      "   </ul>\n",
      "  </div>\n",
      " </div>\n",
      " <h2>\n",
      "  Footnotes\n",
      " </h2>\n",
      " <p id=\"footer\">\n",
      "  1. This was actually a minivan that I named Debora. Maybe not my dream car, but I loved her nonetheless.\n",
      " </p>\n",
      "</body>\n",
      "\n"
     ]
    }
   ],
   "source": [
    "r = requests.get(\"https://keithgalli.github.io/web-scraping/webpage.html\")\n",
    "webpage = bs(r.content)\n",
    "print(webpage.prettify())"
   ]
  },
  {
   "cell_type": "markdown",
   "metadata": {},
   "source": [
    "### Grab all social links from webpage"
   ]
  },
  {
   "cell_type": "code",
   "execution_count": 31,
   "metadata": {},
   "outputs": [
    {
     "data": {
      "text/plain": [
       "['https://www.instagram.com/keithgalli/',\n",
       " 'https://twitter.com/keithgalli',\n",
       " 'https://www.linkedin.com/in/keithgalli/',\n",
       " 'https://www.tiktok.com/@keithgalli']"
      ]
     },
     "execution_count": 31,
     "metadata": {},
     "output_type": "execute_result"
    }
   ],
   "source": [
    "#Using find\n",
    "ul = webpage.find('ul', attrs={'class':'socials'})\n",
    "links = ul.find_all('a')\n",
    "actual_links = [link['href'] for link in links]\n",
    "actual_links"
   ]
  },
  {
   "cell_type": "code",
   "execution_count": 32,
   "metadata": {
    "scrolled": true
   },
   "outputs": [
    {
     "data": {
      "text/plain": [
       "['https://www.instagram.com/keithgalli/',\n",
       " 'https://twitter.com/keithgalli',\n",
       " 'https://www.linkedin.com/in/keithgalli/',\n",
       " 'https://www.tiktok.com/@keithgalli']"
      ]
     },
     "execution_count": 32,
     "metadata": {},
     "output_type": "execute_result"
    }
   ],
   "source": [
    "#Using select\n",
    "links = webpage.select('ul.socials a')\n",
    "actual_links = [link['href'] for link in links]\n",
    "actual_links"
   ]
  },
  {
   "cell_type": "code",
   "execution_count": 33,
   "metadata": {},
   "outputs": [
    {
     "data": {
      "text/plain": [
       "['https://www.instagram.com/keithgalli/',\n",
       " 'https://twitter.com/keithgalli',\n",
       " 'https://www.linkedin.com/in/keithgalli/',\n",
       " 'https://www.tiktok.com/@keithgalli']"
      ]
     },
     "execution_count": 33,
     "metadata": {},
     "output_type": "execute_result"
    }
   ],
   "source": [
    "#Directly using the class id on list item\n",
    "links = webpage.select('li.social a')\n",
    "actual_links = [link['href'] for link in links]\n",
    "actual_links"
   ]
  },
  {
   "cell_type": "markdown",
   "metadata": {},
   "source": [
    "### Scrape the table included on the webpage\n",
    "\n",
    "Good idea to work with pandas when scraping tables"
   ]
  },
  {
   "cell_type": "code",
   "execution_count": 34,
   "metadata": {
    "scrolled": true
   },
   "outputs": [
    {
     "data": {
      "text/plain": [
       "<table class=\"hockey-stats\">\n",
       "<thead>\n",
       "<tr>\n",
       "<th class=\"season\" data-sort=\"\">S</th>\n",
       "<th class=\"team\" data-sort=\"team\">Team</th>\n",
       "<th class=\"league\" data-sort=\"league\">League</th>\n",
       "<th class=\"regular gp\" data-sort=\"gp\">GP</th>\n",
       "<th class=\"regular g\" data-sort=\"g\">G</th>\n",
       "<th class=\"regular a\" data-sort=\"a\">A</th>\n",
       "<th class=\"regular tp\" data-sort=\"tp\">TP</th>\n",
       "<th class=\"regular pim\" data-sort=\"pim\">PIM</th>\n",
       "<th class=\"regular pm\" data-sort=\"pm\">+/-</th>\n",
       "<th class=\"separator\"> </th>\n",
       "<th class=\"postseason\">POST</th>\n",
       "<th class=\"postseason gp\" data-sort=\"playoffs-gp\">GP</th>\n",
       "<th class=\"postseason g\" data-sort=\"playoffs-g\">G</th>\n",
       "<th class=\"postseason a\" data-sort=\"playoffs-a\">A</th>\n",
       "<th class=\"postseason tp\" data-sort=\"playoffs-tp\">TP</th>\n",
       "<th class=\"postseason pim\" data-sort=\"playoffs-pim\">PIM</th>\n",
       "<th class=\"postseason pm\" data-sort=\"playoffs-pm\">+/-</th>\n",
       "</tr>\n",
       "</thead>\n",
       "<tbody>\n",
       "<tr class=\"team-continent-NA\">\n",
       "<td class=\"season sorted\">\n",
       "                  2014-15\n",
       "              </td>\n",
       "<td class=\"team\">\n",
       "<i><img src=\"images/flag.png\"/></i>\n",
       "<span class=\"txt-blue\">\n",
       "<a href=\"https://www.eliteprospects.com/team/10263/mit-mass.-inst.-of-tech./2014-2015?tab=stats\"> MIT (Mass. Inst. of Tech.) </a>\n",
       "</span>\n",
       "</td>\n",
       "<td class=\"league\"> <a href=\"https://www.eliteprospects.com/league/acha-ii/stats/2014-2015\"> ACHA II </a> </td>\n",
       "<td class=\"regular gp\">17</td>\n",
       "<td class=\"regular g\">3</td>\n",
       "<td class=\"regular a\">9</td>\n",
       "<td class=\"regular tp\">12</td>\n",
       "<td class=\"regular pim\">20</td>\n",
       "<td class=\"regular pm\"></td>\n",
       "<td class=\"separator\"> | </td>\n",
       "<td class=\"postseason\">\n",
       "<a href=\"https://www.eliteprospects.com/league/acha-ii/stats/2014-2015\"> </a>\n",
       "</td>\n",
       "<td class=\"postseason gp\">\n",
       "</td>\n",
       "<td class=\"postseason g\">\n",
       "</td>\n",
       "<td class=\"postseason a\">\n",
       "</td>\n",
       "<td class=\"postseason tp\">\n",
       "</td>\n",
       "<td class=\"postseason pim\">\n",
       "</td>\n",
       "<td class=\"postseason pm\">\n",
       "</td>\n",
       "</tr>\n",
       "<tr class=\"team-continent-NA\">\n",
       "<td class=\"season sorted\">\n",
       "                  2015-16\n",
       "              </td>\n",
       "<td class=\"team\">\n",
       "<i><img src=\"images/flag.png\"/></i>\n",
       "<span class=\"txt-blue\">\n",
       "<a href=\"https://www.eliteprospects.com/team/10263/mit-mass.-inst.-of-tech./2015-2016?tab=stats\"> MIT (Mass. Inst. of Tech.) </a>\n",
       "</span>\n",
       "</td>\n",
       "<td class=\"league\"> <a href=\"https://www.eliteprospects.com/league/acha-ii/stats/2015-2016\"> ACHA II </a> </td>\n",
       "<td class=\"regular gp\">9</td>\n",
       "<td class=\"regular g\">1</td>\n",
       "<td class=\"regular a\">1</td>\n",
       "<td class=\"regular tp\">2</td>\n",
       "<td class=\"regular pim\">2</td>\n",
       "<td class=\"regular pm\"></td>\n",
       "<td class=\"separator\"> | </td>\n",
       "<td class=\"postseason\">\n",
       "<a href=\"https://www.eliteprospects.com/league/acha-ii/stats/2015-2016\"> </a>\n",
       "</td>\n",
       "<td class=\"postseason gp\">\n",
       "</td>\n",
       "<td class=\"postseason g\">\n",
       "</td>\n",
       "<td class=\"postseason a\">\n",
       "</td>\n",
       "<td class=\"postseason tp\">\n",
       "</td>\n",
       "<td class=\"postseason pim\">\n",
       "</td>\n",
       "<td class=\"postseason pm\">\n",
       "</td>\n",
       "</tr>\n",
       "<tr class=\"team-continent-NA\">\n",
       "<td class=\"season sorted\">\n",
       "                  2016-17\n",
       "              </td>\n",
       "<td class=\"team\">\n",
       "<i><img src=\"images/flag.png\"/></i>\n",
       "<span class=\"txt-blue\">\n",
       "<a href=\"https://www.eliteprospects.com/team/10263/mit-mass.-inst.-of-tech./2016-2017?tab=stats\"> MIT (Mass. Inst. of Tech.) </a>\n",
       "</span>\n",
       "</td>\n",
       "<td class=\"league\"> <a href=\"https://www.eliteprospects.com/league/acha-ii/stats/2016-2017\"> ACHA II </a> </td>\n",
       "<td class=\"regular gp\">12</td>\n",
       "<td class=\"regular g\">5</td>\n",
       "<td class=\"regular a\">5</td>\n",
       "<td class=\"regular tp\">10</td>\n",
       "<td class=\"regular pim\">8</td>\n",
       "<td class=\"regular pm\">0</td>\n",
       "<td class=\"separator\"> | </td>\n",
       "<td class=\"postseason\">\n",
       "</td>\n",
       "<td class=\"postseason gp\">\n",
       "</td>\n",
       "<td class=\"postseason g\">\n",
       "</td>\n",
       "<td class=\"postseason a\">\n",
       "</td>\n",
       "<td class=\"postseason tp\">\n",
       "</td>\n",
       "<td class=\"postseason pim\">\n",
       "</td>\n",
       "<td class=\"postseason pm\">\n",
       "</td>\n",
       "</tr>\n",
       "<tr class=\"team-continent-EU\">\n",
       "<td class=\"season sorted\">\n",
       "                  2017-18\n",
       "              </td>\n",
       "<td class=\"team\">\n",
       "                  Did not play\n",
       "              </td>\n",
       "<td class=\"league\"> <a href=\"https://www.eliteprospects.com/stats\"> </a> </td>\n",
       "<td class=\"regular gp\"></td>\n",
       "<td class=\"regular g\"></td>\n",
       "<td class=\"regular a\"></td>\n",
       "<td class=\"regular tp\"></td>\n",
       "<td class=\"regular pim\"></td>\n",
       "<td class=\"regular pm\"></td>\n",
       "<td class=\"separator\"> | </td>\n",
       "<td class=\"postseason\">\n",
       "<a href=\"https://www.eliteprospects.com/stats\"> </a>\n",
       "</td>\n",
       "<td class=\"postseason gp\">\n",
       "</td>\n",
       "<td class=\"postseason g\">\n",
       "</td>\n",
       "<td class=\"postseason a\">\n",
       "</td>\n",
       "<td class=\"postseason tp\">\n",
       "</td>\n",
       "<td class=\"postseason pim\">\n",
       "</td>\n",
       "<td class=\"postseason pm\">\n",
       "</td>\n",
       "</tr>\n",
       "<tr class=\"team-continent-NA\">\n",
       "<td class=\"season sorted\">\n",
       "                  2018-19\n",
       "              </td>\n",
       "<td class=\"team\">\n",
       "<i><img src=\"images/flag.png\"/></i>\n",
       "<span class=\"txt-blue\">\n",
       "<a href=\"https://www.eliteprospects.com/team/10263/mit-mass.-inst.-of-tech./2018-2019?tab=stats\"> MIT (Mass. Inst. of Tech.) </a>\n",
       "</span>\n",
       "</td>\n",
       "<td class=\"league\"> <a href=\"https://www.eliteprospects.com/league/acha-iii/stats/2018-2019\"> ACHA III </a> </td>\n",
       "<td class=\"regular gp\">8</td>\n",
       "<td class=\"regular g\">5</td>\n",
       "<td class=\"regular a\">10</td>\n",
       "<td class=\"regular tp\">15</td>\n",
       "<td class=\"regular pim\">8</td>\n",
       "<td class=\"regular pm\"></td>\n",
       "<td class=\"separator\"> | </td>\n",
       "<td class=\"postseason\">\n",
       "<a href=\"https://www.eliteprospects.com/league/acha-iii/stats/2018-2019\"> </a>\n",
       "</td>\n",
       "<td class=\"postseason gp\">\n",
       "</td>\n",
       "<td class=\"postseason g\">\n",
       "</td>\n",
       "<td class=\"postseason a\">\n",
       "</td>\n",
       "<td class=\"postseason tp\">\n",
       "</td>\n",
       "<td class=\"postseason pim\">\n",
       "</td>\n",
       "<td class=\"postseason pm\">\n",
       "</td>\n",
       "</tr>\n",
       "</tbody>\n",
       "</table>"
      ]
     },
     "execution_count": 34,
     "metadata": {},
     "output_type": "execute_result"
    }
   ],
   "source": [
    "table = webpage.select(\"table.hockey-stats\")[0]\n",
    "table"
   ]
  },
  {
   "cell_type": "code",
   "execution_count": 35,
   "metadata": {},
   "outputs": [
    {
     "data": {
      "text/plain": [
       "['S',\n",
       " 'Team',\n",
       " 'League',\n",
       " 'GP',\n",
       " 'G',\n",
       " 'A',\n",
       " 'TP',\n",
       " 'PIM',\n",
       " '+/-',\n",
       " '\\xa0',\n",
       " 'POST',\n",
       " 'GP',\n",
       " 'G',\n",
       " 'A',\n",
       " 'TP',\n",
       " 'PIM',\n",
       " '+/-']"
      ]
     },
     "execution_count": 35,
     "metadata": {},
     "output_type": "execute_result"
    }
   ],
   "source": [
    "#Extracing table headers so that they can be column names\n",
    "columns = table.find('thead').find_all('th')\n",
    "column_names = [c.string for c in columns]\n",
    "column_names"
   ]
  },
  {
   "cell_type": "code",
   "execution_count": 36,
   "metadata": {},
   "outputs": [],
   "source": [
    "#Extracting the table rows\n",
    "table_rows = table.find('tbody').find_all('tr')"
   ]
  },
  {
   "cell_type": "code",
   "execution_count": 37,
   "metadata": {},
   "outputs": [
    {
     "data": {
      "text/html": [
       "<div>\n",
       "<style scoped>\n",
       "    .dataframe tbody tr th:only-of-type {\n",
       "        vertical-align: middle;\n",
       "    }\n",
       "\n",
       "    .dataframe tbody tr th {\n",
       "        vertical-align: top;\n",
       "    }\n",
       "\n",
       "    .dataframe thead th {\n",
       "        text-align: right;\n",
       "    }\n",
       "</style>\n",
       "<table border=\"1\" class=\"dataframe\">\n",
       "  <thead>\n",
       "    <tr style=\"text-align: right;\">\n",
       "      <th></th>\n",
       "      <th>S</th>\n",
       "      <th>Team</th>\n",
       "      <th>League</th>\n",
       "      <th>GP</th>\n",
       "      <th>G</th>\n",
       "      <th>A</th>\n",
       "      <th>TP</th>\n",
       "      <th>PIM</th>\n",
       "      <th>+/-</th>\n",
       "      <th></th>\n",
       "      <th>POST</th>\n",
       "      <th>GP</th>\n",
       "      <th>G</th>\n",
       "      <th>A</th>\n",
       "      <th>TP</th>\n",
       "      <th>PIM</th>\n",
       "      <th>+/-</th>\n",
       "    </tr>\n",
       "  </thead>\n",
       "  <tbody>\n",
       "    <tr>\n",
       "      <th>0</th>\n",
       "      <td>2014-15</td>\n",
       "      <td>MIT (Mass. Inst. of Tech.)</td>\n",
       "      <td>ACHA II</td>\n",
       "      <td>17</td>\n",
       "      <td>3</td>\n",
       "      <td>9</td>\n",
       "      <td>12</td>\n",
       "      <td>20</td>\n",
       "      <td></td>\n",
       "      <td>|</td>\n",
       "      <td></td>\n",
       "      <td></td>\n",
       "      <td></td>\n",
       "      <td></td>\n",
       "      <td></td>\n",
       "      <td></td>\n",
       "      <td></td>\n",
       "    </tr>\n",
       "    <tr>\n",
       "      <th>1</th>\n",
       "      <td>2015-16</td>\n",
       "      <td>MIT (Mass. Inst. of Tech.)</td>\n",
       "      <td>ACHA II</td>\n",
       "      <td>9</td>\n",
       "      <td>1</td>\n",
       "      <td>1</td>\n",
       "      <td>2</td>\n",
       "      <td>2</td>\n",
       "      <td></td>\n",
       "      <td>|</td>\n",
       "      <td></td>\n",
       "      <td></td>\n",
       "      <td></td>\n",
       "      <td></td>\n",
       "      <td></td>\n",
       "      <td></td>\n",
       "      <td></td>\n",
       "    </tr>\n",
       "    <tr>\n",
       "      <th>2</th>\n",
       "      <td>2016-17</td>\n",
       "      <td>MIT (Mass. Inst. of Tech.)</td>\n",
       "      <td>ACHA II</td>\n",
       "      <td>12</td>\n",
       "      <td>5</td>\n",
       "      <td>5</td>\n",
       "      <td>10</td>\n",
       "      <td>8</td>\n",
       "      <td>0</td>\n",
       "      <td>|</td>\n",
       "      <td></td>\n",
       "      <td></td>\n",
       "      <td></td>\n",
       "      <td></td>\n",
       "      <td></td>\n",
       "      <td></td>\n",
       "      <td></td>\n",
       "    </tr>\n",
       "    <tr>\n",
       "      <th>3</th>\n",
       "      <td>2017-18</td>\n",
       "      <td>Did not play</td>\n",
       "      <td></td>\n",
       "      <td></td>\n",
       "      <td></td>\n",
       "      <td></td>\n",
       "      <td></td>\n",
       "      <td></td>\n",
       "      <td></td>\n",
       "      <td>|</td>\n",
       "      <td></td>\n",
       "      <td></td>\n",
       "      <td></td>\n",
       "      <td></td>\n",
       "      <td></td>\n",
       "      <td></td>\n",
       "      <td></td>\n",
       "    </tr>\n",
       "    <tr>\n",
       "      <th>4</th>\n",
       "      <td>2018-19</td>\n",
       "      <td>MIT (Mass. Inst. of Tech.)</td>\n",
       "      <td>ACHA III</td>\n",
       "      <td>8</td>\n",
       "      <td>5</td>\n",
       "      <td>10</td>\n",
       "      <td>15</td>\n",
       "      <td>8</td>\n",
       "      <td></td>\n",
       "      <td>|</td>\n",
       "      <td></td>\n",
       "      <td></td>\n",
       "      <td></td>\n",
       "      <td></td>\n",
       "      <td></td>\n",
       "      <td></td>\n",
       "      <td></td>\n",
       "    </tr>\n",
       "  </tbody>\n",
       "</table>\n",
       "</div>"
      ],
      "text/plain": [
       "         S                        Team    League  GP  G   A  TP PIM +/-     \\\n",
       "0  2014-15  MIT (Mass. Inst. of Tech.)   ACHA II  17  3   9  12  20      |   \n",
       "1  2015-16  MIT (Mass. Inst. of Tech.)   ACHA II   9  1   1   2   2      |   \n",
       "2  2016-17  MIT (Mass. Inst. of Tech.)   ACHA II  12  5   5  10   8   0  |   \n",
       "3  2017-18                Did not play                                   |   \n",
       "4  2018-19  MIT (Mass. Inst. of Tech.)  ACHA III   8  5  10  15   8      |   \n",
       "\n",
       "  POST GP G A TP PIM +/-  \n",
       "0                         \n",
       "1                         \n",
       "2                         \n",
       "3                         \n",
       "4                         "
      ]
     },
     "execution_count": 37,
     "metadata": {},
     "output_type": "execute_result"
    }
   ],
   "source": [
    "#Extracting to pandas dataframe\n",
    "l = []\n",
    "\n",
    "for tr in table_rows:\n",
    "    td = tr.find_all('td')\n",
    "    row = [str(tr.get_text()).strip() for tr in td]\n",
    "    l.append(row)\n",
    "    \n",
    "df = pd.DataFrame(l, columns=column_names)\n",
    "df"
   ]
  },
  {
   "cell_type": "markdown",
   "metadata": {},
   "source": [
    "### Grab all the fun facts that use the word \"is\" in it"
   ]
  },
  {
   "cell_type": "code",
   "execution_count": 42,
   "metadata": {},
   "outputs": [
    {
     "data": {
      "text/plain": [
       "[['Middle name is Ronald'],\n",
       " ['Dunkin Donuts coffee is better than Starbucks'],\n",
       " ['A favorite book series of mine is '],\n",
       " ['Current video game of choice is '],\n",
       " [\"The band that I've seen the most times live is the \"]]"
      ]
     },
     "execution_count": 42,
     "metadata": {},
     "output_type": "execute_result"
    }
   ],
   "source": [
    "facts = webpage.select('ul.fun-facts li')\n",
    "facts_with_is = [fact.find_all(string=re.compile(\"is\")) for fact in facts]\n",
    "\n",
    "#Adding an extra list comprehension to skip the sentences that don't have is\n",
    "#i.e not a None type\n",
    "facts_with_is = [fact for fact in facts_with_is if fact]\n",
    "\n",
    "facts_with_is"
   ]
  },
  {
   "cell_type": "markdown",
   "metadata": {},
   "source": [
    "#### Download images"
   ]
  },
  {
   "cell_type": "code",
   "execution_count": 43,
   "metadata": {
    "scrolled": true
   },
   "outputs": [
    {
     "name": "stdout",
     "output_type": "stream",
     "text": [
      "<head>\n",
      "<title>Keith Galli's Page</title>\n",
      "<style>\n",
      "  table {\n",
      "    border-collapse: collapse;\n",
      "  }\n",
      "  th {\n",
      "    padding:5px;\n",
      "  }\n",
      "  td {\n",
      "    border: 1px solid #ddd;\n",
      "    padding: 5px;\n",
      "  }\n",
      "  tr:nth-child(even) {\n",
      "    background-color: #f2f2f2;\n",
      "  }\n",
      "  th {\n",
      "    padding-top: 12px;\n",
      "    padding-bottom: 12px;\n",
      "    text-align: left;\n",
      "    background-color: #add8e6;\n",
      "    color: black;\n",
      "  }\n",
      "  .block {\n",
      "  width: 100px;\n",
      "  /*float: left;*/\n",
      "    display: inline-block;\n",
      "    zoom: 1;\n",
      "  }\n",
      "  .column {\n",
      "  float: left;\n",
      "  height: 200px;\n",
      "  /*width: 33.33%;*/\n",
      "  padding: 5px;\n",
      "  }\n",
      "\n",
      "  .row::after {\n",
      "    content: \"\";\n",
      "    clear: both;\n",
      "    display: table;\n",
      "  }\n",
      "</style>\n",
      "</head>\n",
      "<body>\n",
      "<h1>Welcome to my page!</h1>\n",
      "<img src=\"./images/selfie1.jpg\" width=\"300px\"/>\n",
      "<h2>About me</h2>\n",
      "<p>Hi, my name is Keith and I am a YouTuber who focuses on content related to programming, data science, and machine learning!</p>\n",
      "<p>Here is a link to my channel: <a href=\"https://www.youtube.com/kgmit\">youtube.com/kgmit</a></p>\n",
      "<p>I grew up in the great state of New Hampshire here in the USA. From an early age I always loved math. Around my senior year of high school, my brother first introduced me to programming. I found it a creative way to apply the same type of logical thinking skills that I enjoyed with math. This influenced me to study computer science in college and ultimately create a YouTube channel to share some things that I have learned along the way.</p>\n",
      "<h3>Hobbies</h3>\n",
      "<p>Believe it or not, I don't code 24/7. I love doing all sorts of active things. I like to play ice hockey &amp; table tennis as well as run, hike, skateboard, and snowboard. In addition to sports, I am a board game enthusiast. The two that I've been playing the most recently are <i>Settlers of Catan</i> and <i>Othello</i>.</p>\n",
      "<h3>Fun Facts</h3>\n",
      "<ul class=\"fun-facts\">\n",
      "<li>Owned my dream car in high school <a href=\"#footer\"><sup>1</sup></a></li>\n",
      "<li>Middle name is Ronald</li>\n",
      "<li>Never had been on a plane until college</li>\n",
      "<li>Dunkin Donuts coffee is better than Starbucks</li>\n",
      "<li>A favorite book series of mine is <i>Ender's Game</i></li>\n",
      "<li>Current video game of choice is <i>Rocket League</i></li>\n",
      "<li>The band that I've seen the most times live is the <i>Zac Brown Band</i></li>\n",
      "</ul>\n",
      "<h2>Social Media</h2>\n",
      "  I encourage you to check out my content on all social media platforms\n",
      "  <br/>\n",
      "<ul class=\"socials\">\n",
      "<li class=\"social instagram\"><b>Instagram: </b><a href=\"https://www.instagram.com/keithgalli/\">https://www.instagram.com/keithgalli/</a></li>\n",
      "<li class=\"social twitter\"><b>Twitter: </b><a href=\"https://twitter.com/keithgalli\">https://twitter.com/keithgalli</a></li>\n",
      "<li class=\"social linkedin\"><b>LinkedIn: </b><a href=\"https://www.linkedin.com/in/keithgalli/\">https://www.linkedin.com/in/keithgalli/</a></li>\n",
      "<li class=\"social tiktok\"><b>TikTok: </b><a href=\"https://www.tiktok.com/@keithgalli\">https://www.tiktok.com/@keithgalli</a></li>\n",
      "</ul>\n",
      "<h2>Photos</h2>\n",
      "  Here are a few photos from a trip to italy I took last year\n",
      "  <div class=\"row\">\n",
      "<div class=\"column\">\n",
      "<img alt=\"Lake Como\" src=\"images/italy/lake_como.jpg\" style=\"height:100%\"/>\n",
      "</div>\n",
      "<div class=\"column\">\n",
      "<img alt=\"Pontevecchio, Florence\" src=\"images/italy/pontevecchio.jpg\" style=\"height:100%\"/>\n",
      "</div>\n",
      "<div class=\"column\">\n",
      "<img alt=\"Riomaggiore, Cinque de Terre\" src=\"images/italy/riomaggiore.jpg\" style=\"height:100%\"/>\n",
      "</div>\n",
      "</div>\n",
      "<div></div>\n",
      "<h2> Table </h2>\n",
      "  My MIT hockey stats :) \n",
      "  <br/>\n",
      "<table class=\"hockey-stats\">\n",
      "<thead>\n",
      "<tr>\n",
      "<th class=\"season\" data-sort=\"\">S</th>\n",
      "<th class=\"team\" data-sort=\"team\">Team</th>\n",
      "<th class=\"league\" data-sort=\"league\">League</th>\n",
      "<th class=\"regular gp\" data-sort=\"gp\">GP</th>\n",
      "<th class=\"regular g\" data-sort=\"g\">G</th>\n",
      "<th class=\"regular a\" data-sort=\"a\">A</th>\n",
      "<th class=\"regular tp\" data-sort=\"tp\">TP</th>\n",
      "<th class=\"regular pim\" data-sort=\"pim\">PIM</th>\n",
      "<th class=\"regular pm\" data-sort=\"pm\">+/-</th>\n",
      "<th class=\"separator\"> </th>\n",
      "<th class=\"postseason\">POST</th>\n",
      "<th class=\"postseason gp\" data-sort=\"playoffs-gp\">GP</th>\n",
      "<th class=\"postseason g\" data-sort=\"playoffs-g\">G</th>\n",
      "<th class=\"postseason a\" data-sort=\"playoffs-a\">A</th>\n",
      "<th class=\"postseason tp\" data-sort=\"playoffs-tp\">TP</th>\n",
      "<th class=\"postseason pim\" data-sort=\"playoffs-pim\">PIM</th>\n",
      "<th class=\"postseason pm\" data-sort=\"playoffs-pm\">+/-</th>\n",
      "</tr>\n",
      "</thead>\n",
      "<tbody>\n",
      "<tr class=\"team-continent-NA\">\n",
      "<td class=\"season sorted\">\n",
      "                  2014-15\n",
      "              </td>\n",
      "<td class=\"team\">\n",
      "<i><img src=\"images/flag.png\"/></i>\n",
      "<span class=\"txt-blue\">\n",
      "<a href=\"https://www.eliteprospects.com/team/10263/mit-mass.-inst.-of-tech./2014-2015?tab=stats\"> MIT (Mass. Inst. of Tech.) </a>\n",
      "</span>\n",
      "</td>\n",
      "<td class=\"league\"> <a href=\"https://www.eliteprospects.com/league/acha-ii/stats/2014-2015\"> ACHA II </a> </td>\n",
      "<td class=\"regular gp\">17</td>\n",
      "<td class=\"regular g\">3</td>\n",
      "<td class=\"regular a\">9</td>\n",
      "<td class=\"regular tp\">12</td>\n",
      "<td class=\"regular pim\">20</td>\n",
      "<td class=\"regular pm\"></td>\n",
      "<td class=\"separator\"> | </td>\n",
      "<td class=\"postseason\">\n",
      "<a href=\"https://www.eliteprospects.com/league/acha-ii/stats/2014-2015\"> </a>\n",
      "</td>\n",
      "<td class=\"postseason gp\">\n",
      "</td>\n",
      "<td class=\"postseason g\">\n",
      "</td>\n",
      "<td class=\"postseason a\">\n",
      "</td>\n",
      "<td class=\"postseason tp\">\n",
      "</td>\n",
      "<td class=\"postseason pim\">\n",
      "</td>\n",
      "<td class=\"postseason pm\">\n",
      "</td>\n",
      "</tr>\n",
      "<tr class=\"team-continent-NA\">\n",
      "<td class=\"season sorted\">\n",
      "                  2015-16\n",
      "              </td>\n",
      "<td class=\"team\">\n",
      "<i><img src=\"images/flag.png\"/></i>\n",
      "<span class=\"txt-blue\">\n",
      "<a href=\"https://www.eliteprospects.com/team/10263/mit-mass.-inst.-of-tech./2015-2016?tab=stats\"> MIT (Mass. Inst. of Tech.) </a>\n",
      "</span>\n",
      "</td>\n",
      "<td class=\"league\"> <a href=\"https://www.eliteprospects.com/league/acha-ii/stats/2015-2016\"> ACHA II </a> </td>\n",
      "<td class=\"regular gp\">9</td>\n",
      "<td class=\"regular g\">1</td>\n",
      "<td class=\"regular a\">1</td>\n",
      "<td class=\"regular tp\">2</td>\n",
      "<td class=\"regular pim\">2</td>\n",
      "<td class=\"regular pm\"></td>\n",
      "<td class=\"separator\"> | </td>\n",
      "<td class=\"postseason\">\n",
      "<a href=\"https://www.eliteprospects.com/league/acha-ii/stats/2015-2016\"> </a>\n",
      "</td>\n",
      "<td class=\"postseason gp\">\n",
      "</td>\n",
      "<td class=\"postseason g\">\n",
      "</td>\n",
      "<td class=\"postseason a\">\n",
      "</td>\n",
      "<td class=\"postseason tp\">\n",
      "</td>\n",
      "<td class=\"postseason pim\">\n",
      "</td>\n",
      "<td class=\"postseason pm\">\n",
      "</td>\n",
      "</tr>\n",
      "<tr class=\"team-continent-NA\">\n",
      "<td class=\"season sorted\">\n",
      "                  2016-17\n",
      "              </td>\n",
      "<td class=\"team\">\n",
      "<i><img src=\"images/flag.png\"/></i>\n",
      "<span class=\"txt-blue\">\n",
      "<a href=\"https://www.eliteprospects.com/team/10263/mit-mass.-inst.-of-tech./2016-2017?tab=stats\"> MIT (Mass. Inst. of Tech.) </a>\n",
      "</span>\n",
      "</td>\n",
      "<td class=\"league\"> <a href=\"https://www.eliteprospects.com/league/acha-ii/stats/2016-2017\"> ACHA II </a> </td>\n",
      "<td class=\"regular gp\">12</td>\n",
      "<td class=\"regular g\">5</td>\n",
      "<td class=\"regular a\">5</td>\n",
      "<td class=\"regular tp\">10</td>\n",
      "<td class=\"regular pim\">8</td>\n",
      "<td class=\"regular pm\">0</td>\n",
      "<td class=\"separator\"> | </td>\n",
      "<td class=\"postseason\">\n",
      "</td>\n",
      "<td class=\"postseason gp\">\n",
      "</td>\n",
      "<td class=\"postseason g\">\n",
      "</td>\n",
      "<td class=\"postseason a\">\n",
      "</td>\n",
      "<td class=\"postseason tp\">\n",
      "</td>\n",
      "<td class=\"postseason pim\">\n",
      "</td>\n",
      "<td class=\"postseason pm\">\n",
      "</td>\n",
      "</tr>\n",
      "<tr class=\"team-continent-EU\">\n",
      "<td class=\"season sorted\">\n",
      "                  2017-18\n",
      "              </td>\n",
      "<td class=\"team\">\n",
      "                  Did not play\n",
      "              </td>\n",
      "<td class=\"league\"> <a href=\"https://www.eliteprospects.com/stats\"> </a> </td>\n",
      "<td class=\"regular gp\"></td>\n",
      "<td class=\"regular g\"></td>\n",
      "<td class=\"regular a\"></td>\n",
      "<td class=\"regular tp\"></td>\n",
      "<td class=\"regular pim\"></td>\n",
      "<td class=\"regular pm\"></td>\n",
      "<td class=\"separator\"> | </td>\n",
      "<td class=\"postseason\">\n",
      "<a href=\"https://www.eliteprospects.com/stats\"> </a>\n",
      "</td>\n",
      "<td class=\"postseason gp\">\n",
      "</td>\n",
      "<td class=\"postseason g\">\n",
      "</td>\n",
      "<td class=\"postseason a\">\n",
      "</td>\n",
      "<td class=\"postseason tp\">\n",
      "</td>\n",
      "<td class=\"postseason pim\">\n",
      "</td>\n",
      "<td class=\"postseason pm\">\n",
      "</td>\n",
      "</tr>\n",
      "<tr class=\"team-continent-NA\">\n",
      "<td class=\"season sorted\">\n",
      "                  2018-19\n",
      "              </td>\n",
      "<td class=\"team\">\n",
      "<i><img src=\"images/flag.png\"/></i>\n",
      "<span class=\"txt-blue\">\n",
      "<a href=\"https://www.eliteprospects.com/team/10263/mit-mass.-inst.-of-tech./2018-2019?tab=stats\"> MIT (Mass. Inst. of Tech.) </a>\n",
      "</span>\n",
      "</td>\n",
      "<td class=\"league\"> <a href=\"https://www.eliteprospects.com/league/acha-iii/stats/2018-2019\"> ACHA III </a> </td>\n",
      "<td class=\"regular gp\">8</td>\n",
      "<td class=\"regular g\">5</td>\n",
      "<td class=\"regular a\">10</td>\n",
      "<td class=\"regular tp\">15</td>\n",
      "<td class=\"regular pim\">8</td>\n",
      "<td class=\"regular pm\"></td>\n",
      "<td class=\"separator\"> | </td>\n",
      "<td class=\"postseason\">\n",
      "<a href=\"https://www.eliteprospects.com/league/acha-iii/stats/2018-2019\"> </a>\n",
      "</td>\n",
      "<td class=\"postseason gp\">\n",
      "</td>\n",
      "<td class=\"postseason g\">\n",
      "</td>\n",
      "<td class=\"postseason a\">\n",
      "</td>\n",
      "<td class=\"postseason tp\">\n",
      "</td>\n",
      "<td class=\"postseason pim\">\n",
      "</td>\n",
      "<td class=\"postseason pm\">\n",
      "</td>\n",
      "</tr>\n",
      "</tbody>\n",
      "</table>\n",
      "<h2>Mystery Message Challenge!</h2>\n",
      "<p>If you scrape the links below grabbing the &lt;p&gt; tag with id=\"secret-word\", you'll discover a secret message :)</p>\n",
      "<div width=\"50%\">\n",
      "<div align=\"left\" class=\"block\">\n",
      "<ul>\n",
      "<li><a href=\"challenge/file_1.html\">File 1</a></li>\n",
      "<li><a href=\"challenge/file_2.html\">File 2</a></li>\n",
      "<li><a href=\"challenge/file_3.html\">File 3</a></li>\n",
      "<li><a href=\"challenge/file_4.html\">File 4</a></li>\n",
      "<li><a href=\"challenge/file_5.html\">File 5</a></li>\n",
      "</ul>\n",
      "</div>\n",
      "<div align=\"center\" class=\"block\">\n",
      "<ul>\n",
      "<li><a href=\"challenge/file_6.html\">File 6</a></li>\n",
      "<li><a href=\"challenge/file_7.html\">File 7</a></li>\n",
      "<li><a href=\"challenge/file_8.html\">File 8</a></li>\n",
      "<li><a href=\"challenge/file_9.html\">File 9</a></li>\n",
      "<li><a href=\"challenge/file_10.html\">File 10</a></li>\n",
      "</ul>\n",
      "</div>\n",
      "</div>\n",
      "<h2>Footnotes</h2>\n",
      "<p id=\"footer\">1. This was actually a minivan that I named Debora. Maybe not my dream car, but I loved her nonetheless.</p>\n",
      "</body>\n",
      "\n"
     ]
    }
   ],
   "source": [
    "print(webpage)"
   ]
  },
  {
   "cell_type": "code",
   "execution_count": 47,
   "metadata": {},
   "outputs": [
    {
     "data": {
      "text/plain": [
       "'images/italy/lake_como.jpg'"
      ]
     },
     "execution_count": 47,
     "metadata": {},
     "output_type": "execute_result"
    }
   ],
   "source": [
    "images = webpage.select(\"div.row div.column img\")\n",
    "image_url = images[0]['src']\n",
    "image_url"
   ]
  },
  {
   "cell_type": "code",
   "execution_count": 51,
   "metadata": {},
   "outputs": [],
   "source": [
    "full_url = url + image_url"
   ]
  },
  {
   "cell_type": "code",
   "execution_count": 54,
   "metadata": {},
   "outputs": [],
   "source": [
    "img_data = requests.get(full_url).content\n",
    "\n",
    "with open('lake_como.jpg', 'wb') as handler:\n",
    "    handler.write(img_data)"
   ]
  },
  {
   "cell_type": "code",
   "execution_count": 53,
   "metadata": {},
   "outputs": [
    {
     "name": "stdout",
     "output_type": "stream",
     "text": [
      "https://keithgalli.github.io/web-scraping/images/italy/lake_como.jpg\n"
     ]
    }
   ],
   "source": [
    "print(full_url)"
   ]
  },
  {
   "cell_type": "markdown",
   "metadata": {},
   "source": [
    "### Solving the mystery challenge"
   ]
  },
  {
   "cell_type": "code",
   "execution_count": 66,
   "metadata": {},
   "outputs": [
    {
     "data": {
      "text/plain": [
       "['challenge/file_1.html',\n",
       " 'challenge/file_2.html',\n",
       " 'challenge/file_3.html',\n",
       " 'challenge/file_4.html',\n",
       " 'challenge/file_5.html',\n",
       " 'challenge/file_6.html',\n",
       " 'challenge/file_7.html',\n",
       " 'challenge/file_8.html',\n",
       " 'challenge/file_9.html',\n",
       " 'challenge/file_10.html']"
      ]
     },
     "execution_count": 66,
     "metadata": {},
     "output_type": "execute_result"
    }
   ],
   "source": [
    "#Getting the divs of the tables\n",
    "divs = webpage.find_all('div', attrs={'class':'block'})\n",
    "\n",
    "#Defining an empty list to store the urls that need to be scraped\n",
    "urls_to_scrape = []\n",
    "\n",
    "#Looping through the divs and then the links and appending\n",
    "for div in divs:\n",
    "    for link in div.find_all('a'):\n",
    "        urls_to_scrape.append(link['href'])\n",
    "\n",
    "urls_to_scrape"
   ]
  },
  {
   "cell_type": "code",
   "execution_count": 67,
   "metadata": {},
   "outputs": [
    {
     "data": {
      "text/plain": [
       "['https://keithgalli.github.io/web-scraping/challenge/file_1.html',\n",
       " 'https://keithgalli.github.io/web-scraping/challenge/file_2.html',\n",
       " 'https://keithgalli.github.io/web-scraping/challenge/file_3.html',\n",
       " 'https://keithgalli.github.io/web-scraping/challenge/file_4.html',\n",
       " 'https://keithgalli.github.io/web-scraping/challenge/file_5.html',\n",
       " 'https://keithgalli.github.io/web-scraping/challenge/file_6.html',\n",
       " 'https://keithgalli.github.io/web-scraping/challenge/file_7.html',\n",
       " 'https://keithgalli.github.io/web-scraping/challenge/file_8.html',\n",
       " 'https://keithgalli.github.io/web-scraping/challenge/file_9.html',\n",
       " 'https://keithgalli.github.io/web-scraping/challenge/file_10.html']"
      ]
     },
     "execution_count": 67,
     "metadata": {},
     "output_type": "execute_result"
    }
   ],
   "source": [
    "#Converting the urls to full urls\n",
    "urls_to_scrape = [url+mini_url for mini_url in urls_to_scrape]\n",
    "urls_to_scrape"
   ]
  },
  {
   "cell_type": "code",
   "execution_count": 77,
   "metadata": {},
   "outputs": [
    {
     "data": {
      "text/plain": [
       "'Make sure to smash that like button and subscribe !!! '"
      ]
     },
     "execution_count": 77,
     "metadata": {},
     "output_type": "execute_result"
    }
   ],
   "source": [
    "#Define an empty string to collect the secret message\n",
    "secret = ''\n",
    "\n",
    "#Loop through the urls and then request the html\n",
    "for url in urls_to_scrape:\n",
    "    #Make request to the url \n",
    "    r = requests.get(url)\n",
    "    \n",
    "    #Get html\n",
    "    webpage = bs(r.content)\n",
    "    \n",
    "    #Find the paragraph with id secret-word and append to secret list\n",
    "    secret += webpage.select(\"p#secret-word\")[0].get_text()\n",
    "    \n",
    "    #Add space\n",
    "    secret += ' '\n",
    "\n",
    "#Display secret\n",
    "secret"
   ]
  },
  {
   "cell_type": "code",
   "execution_count": null,
   "metadata": {},
   "outputs": [],
   "source": []
  }
 ],
 "metadata": {
  "kernelspec": {
   "display_name": "Python 3",
   "language": "python",
   "name": "python3"
  },
  "language_info": {
   "codemirror_mode": {
    "name": "ipython",
    "version": 3
   },
   "file_extension": ".py",
   "mimetype": "text/x-python",
   "name": "python",
   "nbconvert_exporter": "python",
   "pygments_lexer": "ipython3",
   "version": "3.8.5"
  }
 },
 "nbformat": 4,
 "nbformat_minor": 4
}
